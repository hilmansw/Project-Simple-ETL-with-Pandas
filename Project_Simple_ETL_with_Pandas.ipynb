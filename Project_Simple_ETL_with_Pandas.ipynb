{
  "nbformat": 4,
  "nbformat_minor": 0,
  "metadata": {
    "colab": {
      "name": "Project Simple ETL with Pandas.ipynb",
      "provenance": []
    },
    "kernelspec": {
      "name": "python3",
      "display_name": "Python 3"
    },
    "language_info": {
      "name": "python"
    }
  },
  "cells": [
    {
      "cell_type": "markdown",
      "source": [
        "# Project Simple ETL with Pandas\n",
        "Created by: Hilman Singgih Wicaksana, S.Kom<br>\n",
        "Masters Student of Information Systems at Diponegoro University"
      ],
      "metadata": {
        "id": "In0WfzJmiKpZ"
      }
    },
    {
      "cell_type": "markdown",
      "source": [
        "# Import Library"
      ],
      "metadata": {
        "id": "3Sp7fw6KiI-J"
      }
    },
    {
      "cell_type": "code",
      "execution_count": 1,
      "metadata": {
        "id": "iwV-IHhUcZIn"
      },
      "outputs": [],
      "source": [
        "import pandas as pd"
      ]
    },
    {
      "cell_type": "markdown",
      "source": [
        "# Load the Data"
      ],
      "metadata": {
        "id": "VGoCtZHZiGPn"
      }
    },
    {
      "cell_type": "code",
      "source": [
        "df_participant = pd.read_csv('https://storage.googleapis.com/dqlab-dataset/dqthon-participants.csv')\n",
        "df_participant"
      ],
      "metadata": {
        "colab": {
          "base_uri": "https://localhost:8080/",
          "height": 641
        },
        "id": "Es2AjZUUcgHX",
        "outputId": "03299b84-0a85-4207-b868-f0b7185b94c3"
      },
      "execution_count": 2,
      "outputs": [
        {
          "output_type": "execute_result",
          "data": {
            "text/plain": [
              "                            participant_id first_name   last_name  \\\n",
              "0     bd9b6f88-b84f-4c4d-90f8-b67fe2f1a29a      Citra  Nurdiyanti   \n",
              "1     7dfe3391-6f40-47b6-b4db-0c76ebaf5fc3       Aris    Setiawan   \n",
              "2     19582d7f-b824-4fe5-a517-d5bf573fc768   Cornelia   Handayani   \n",
              "3     aeb6d817-25f3-4867-8a74-8d92e0a0f633      Soleh      Rajasa   \n",
              "4     1fdabdd9-5444-4c97-87b2-fe8833ad0d27       Vivi      Astuti   \n",
              "...                                    ...        ...         ...   \n",
              "4995  5f084245-58cb-4360-8cff-112f06f7214e      Mitra    Latupono   \n",
              "4996  fc6e142a-3f66-4330-9975-8c1dc7f9bb03      Indah   Rahmawati   \n",
              "4997  4521ff9f-4aec-401b-84aa-a4e6fc6549a4      Irsad    Najmudin   \n",
              "4998  1c91596e-427c-44a7-b7d0-974f44e18381      Carla    Nasyidah   \n",
              "4999  5d682e84-bcb5-43e9-8ce0-615364f5376a    Darmana     Maryadi   \n",
              "\n",
              "       birth_date                                            address  \\\n",
              "0     05 Feb 1991           Gg. Monginsidi No. 08\\nMedan, Aceh 80734   \n",
              "1     11 Jan 1993     Gg. Rajawali Timur No. 7\\nPrabumulih, MA 09434   \n",
              "2     31 Jul 1993             Jalan Kebonjati No. 0\\nAmbon, SS 57739   \n",
              "3     04 Nov 1991    Jl. Yos Sudarso No. 109\\nLubuklinggau, SR 76156   \n",
              "4     22 Jan 2003  Jalan Gardujati No. 53\\nKediri, Sulawesi Tenga...   \n",
              "...           ...                                                ...   \n",
              "4995  27 Apr 2000            Jl. Monginsidi No. 5\\nCirebon, BB 50268   \n",
              "4996  06 Mar 1996              Gang Joyoboyo No. 73\\nBogor, BT 57434   \n",
              "4997  14 Feb 2003   Jalan PHH. Mustofa No. 0\\nTanjungbalai, MU 95312   \n",
              "4998  22 Aug 1994  Jl. H.J Maemunah No. 955\\nManado, Kepulauan Ba...   \n",
              "4999  09 Feb 2002  Jalan Erlangga No. 76\\nBontang, Sulawesi Tengg...   \n",
              "\n",
              "             phone_number      country                            institute  \\\n",
              "0         (0151) 081 2706      Georgia                 UD Prakasa Mandasari   \n",
              "1      +62 (036) 461 7027  Korea Utara               Universitas Diponegoro   \n",
              "2            089 833 6695       Komoro             UD Hardiansyah Puspasari   \n",
              "3      +62 (418) 329-4756      Eritrea            Perum Tampubolon Yuliarti   \n",
              "4              0812511835     Aljazair               PT Hardiansyah Rahimah   \n",
              "...                   ...          ...                                  ...   \n",
              "4995   +62 (050) 795-8398     Hongaria  Institut Teknologi Sepuluh Nopember   \n",
              "4996  +62 (0443) 963 0055     Norwegia               CV Safitri Hastuti Tbk   \n",
              "4997  +62 (0408) 216-7689        Ghana   Universitas Katolik Widya Manadala   \n",
              "4998  +62 (0751) 380 3352       Gambia             CV Permadi (Persero) Tbk   \n",
              "4999   +62 (066) 414 8791    Singapura             Perum Laksita Kuswandari   \n",
              "\n",
              "                          occupation  register_time  \n",
              "0     Business Intelligence Engineer   1.617634e+09  \n",
              "1                  Frontend Engineer   1.617634e+09  \n",
              "2                   Business Analyst   1.617634e+09  \n",
              "3                    DevOps Engineer   1.617634e+09  \n",
              "4                       Data Analyst   1.617634e+09  \n",
              "...                              ...            ...  \n",
              "4995  Business Intelligence Engineer   1.617634e+09  \n",
              "4996                   Data Engineer   1.617634e+09  \n",
              "4997              Fullstack Engineer   1.617634e+09  \n",
              "4998              Fullstack Engineer   1.617634e+09  \n",
              "4999                 DevOps Engineer   1.617634e+09  \n",
              "\n",
              "[5000 rows x 10 columns]"
            ],
            "text/html": [
              "\n",
              "  <div id=\"df-4bb44c0f-4905-4712-8d70-0c77d4ee3c5d\">\n",
              "    <div class=\"colab-df-container\">\n",
              "      <div>\n",
              "<style scoped>\n",
              "    .dataframe tbody tr th:only-of-type {\n",
              "        vertical-align: middle;\n",
              "    }\n",
              "\n",
              "    .dataframe tbody tr th {\n",
              "        vertical-align: top;\n",
              "    }\n",
              "\n",
              "    .dataframe thead th {\n",
              "        text-align: right;\n",
              "    }\n",
              "</style>\n",
              "<table border=\"1\" class=\"dataframe\">\n",
              "  <thead>\n",
              "    <tr style=\"text-align: right;\">\n",
              "      <th></th>\n",
              "      <th>participant_id</th>\n",
              "      <th>first_name</th>\n",
              "      <th>last_name</th>\n",
              "      <th>birth_date</th>\n",
              "      <th>address</th>\n",
              "      <th>phone_number</th>\n",
              "      <th>country</th>\n",
              "      <th>institute</th>\n",
              "      <th>occupation</th>\n",
              "      <th>register_time</th>\n",
              "    </tr>\n",
              "  </thead>\n",
              "  <tbody>\n",
              "    <tr>\n",
              "      <th>0</th>\n",
              "      <td>bd9b6f88-b84f-4c4d-90f8-b67fe2f1a29a</td>\n",
              "      <td>Citra</td>\n",
              "      <td>Nurdiyanti</td>\n",
              "      <td>05 Feb 1991</td>\n",
              "      <td>Gg. Monginsidi No. 08\\nMedan, Aceh 80734</td>\n",
              "      <td>(0151) 081 2706</td>\n",
              "      <td>Georgia</td>\n",
              "      <td>UD Prakasa Mandasari</td>\n",
              "      <td>Business Intelligence Engineer</td>\n",
              "      <td>1.617634e+09</td>\n",
              "    </tr>\n",
              "    <tr>\n",
              "      <th>1</th>\n",
              "      <td>7dfe3391-6f40-47b6-b4db-0c76ebaf5fc3</td>\n",
              "      <td>Aris</td>\n",
              "      <td>Setiawan</td>\n",
              "      <td>11 Jan 1993</td>\n",
              "      <td>Gg. Rajawali Timur No. 7\\nPrabumulih, MA 09434</td>\n",
              "      <td>+62 (036) 461 7027</td>\n",
              "      <td>Korea Utara</td>\n",
              "      <td>Universitas Diponegoro</td>\n",
              "      <td>Frontend Engineer</td>\n",
              "      <td>1.617634e+09</td>\n",
              "    </tr>\n",
              "    <tr>\n",
              "      <th>2</th>\n",
              "      <td>19582d7f-b824-4fe5-a517-d5bf573fc768</td>\n",
              "      <td>Cornelia</td>\n",
              "      <td>Handayani</td>\n",
              "      <td>31 Jul 1993</td>\n",
              "      <td>Jalan Kebonjati No. 0\\nAmbon, SS 57739</td>\n",
              "      <td>089 833 6695</td>\n",
              "      <td>Komoro</td>\n",
              "      <td>UD Hardiansyah Puspasari</td>\n",
              "      <td>Business Analyst</td>\n",
              "      <td>1.617634e+09</td>\n",
              "    </tr>\n",
              "    <tr>\n",
              "      <th>3</th>\n",
              "      <td>aeb6d817-25f3-4867-8a74-8d92e0a0f633</td>\n",
              "      <td>Soleh</td>\n",
              "      <td>Rajasa</td>\n",
              "      <td>04 Nov 1991</td>\n",
              "      <td>Jl. Yos Sudarso No. 109\\nLubuklinggau, SR 76156</td>\n",
              "      <td>+62 (418) 329-4756</td>\n",
              "      <td>Eritrea</td>\n",
              "      <td>Perum Tampubolon Yuliarti</td>\n",
              "      <td>DevOps Engineer</td>\n",
              "      <td>1.617634e+09</td>\n",
              "    </tr>\n",
              "    <tr>\n",
              "      <th>4</th>\n",
              "      <td>1fdabdd9-5444-4c97-87b2-fe8833ad0d27</td>\n",
              "      <td>Vivi</td>\n",
              "      <td>Astuti</td>\n",
              "      <td>22 Jan 2003</td>\n",
              "      <td>Jalan Gardujati No. 53\\nKediri, Sulawesi Tenga...</td>\n",
              "      <td>0812511835</td>\n",
              "      <td>Aljazair</td>\n",
              "      <td>PT Hardiansyah Rahimah</td>\n",
              "      <td>Data Analyst</td>\n",
              "      <td>1.617634e+09</td>\n",
              "    </tr>\n",
              "    <tr>\n",
              "      <th>...</th>\n",
              "      <td>...</td>\n",
              "      <td>...</td>\n",
              "      <td>...</td>\n",
              "      <td>...</td>\n",
              "      <td>...</td>\n",
              "      <td>...</td>\n",
              "      <td>...</td>\n",
              "      <td>...</td>\n",
              "      <td>...</td>\n",
              "      <td>...</td>\n",
              "    </tr>\n",
              "    <tr>\n",
              "      <th>4995</th>\n",
              "      <td>5f084245-58cb-4360-8cff-112f06f7214e</td>\n",
              "      <td>Mitra</td>\n",
              "      <td>Latupono</td>\n",
              "      <td>27 Apr 2000</td>\n",
              "      <td>Jl. Monginsidi No. 5\\nCirebon, BB 50268</td>\n",
              "      <td>+62 (050) 795-8398</td>\n",
              "      <td>Hongaria</td>\n",
              "      <td>Institut Teknologi Sepuluh Nopember</td>\n",
              "      <td>Business Intelligence Engineer</td>\n",
              "      <td>1.617634e+09</td>\n",
              "    </tr>\n",
              "    <tr>\n",
              "      <th>4996</th>\n",
              "      <td>fc6e142a-3f66-4330-9975-8c1dc7f9bb03</td>\n",
              "      <td>Indah</td>\n",
              "      <td>Rahmawati</td>\n",
              "      <td>06 Mar 1996</td>\n",
              "      <td>Gang Joyoboyo No. 73\\nBogor, BT 57434</td>\n",
              "      <td>+62 (0443) 963 0055</td>\n",
              "      <td>Norwegia</td>\n",
              "      <td>CV Safitri Hastuti Tbk</td>\n",
              "      <td>Data Engineer</td>\n",
              "      <td>1.617634e+09</td>\n",
              "    </tr>\n",
              "    <tr>\n",
              "      <th>4997</th>\n",
              "      <td>4521ff9f-4aec-401b-84aa-a4e6fc6549a4</td>\n",
              "      <td>Irsad</td>\n",
              "      <td>Najmudin</td>\n",
              "      <td>14 Feb 2003</td>\n",
              "      <td>Jalan PHH. Mustofa No. 0\\nTanjungbalai, MU 95312</td>\n",
              "      <td>+62 (0408) 216-7689</td>\n",
              "      <td>Ghana</td>\n",
              "      <td>Universitas Katolik Widya Manadala</td>\n",
              "      <td>Fullstack Engineer</td>\n",
              "      <td>1.617634e+09</td>\n",
              "    </tr>\n",
              "    <tr>\n",
              "      <th>4998</th>\n",
              "      <td>1c91596e-427c-44a7-b7d0-974f44e18381</td>\n",
              "      <td>Carla</td>\n",
              "      <td>Nasyidah</td>\n",
              "      <td>22 Aug 1994</td>\n",
              "      <td>Jl. H.J Maemunah No. 955\\nManado, Kepulauan Ba...</td>\n",
              "      <td>+62 (0751) 380 3352</td>\n",
              "      <td>Gambia</td>\n",
              "      <td>CV Permadi (Persero) Tbk</td>\n",
              "      <td>Fullstack Engineer</td>\n",
              "      <td>1.617634e+09</td>\n",
              "    </tr>\n",
              "    <tr>\n",
              "      <th>4999</th>\n",
              "      <td>5d682e84-bcb5-43e9-8ce0-615364f5376a</td>\n",
              "      <td>Darmana</td>\n",
              "      <td>Maryadi</td>\n",
              "      <td>09 Feb 2002</td>\n",
              "      <td>Jalan Erlangga No. 76\\nBontang, Sulawesi Tengg...</td>\n",
              "      <td>+62 (066) 414 8791</td>\n",
              "      <td>Singapura</td>\n",
              "      <td>Perum Laksita Kuswandari</td>\n",
              "      <td>DevOps Engineer</td>\n",
              "      <td>1.617634e+09</td>\n",
              "    </tr>\n",
              "  </tbody>\n",
              "</table>\n",
              "<p>5000 rows × 10 columns</p>\n",
              "</div>\n",
              "      <button class=\"colab-df-convert\" onclick=\"convertToInteractive('df-4bb44c0f-4905-4712-8d70-0c77d4ee3c5d')\"\n",
              "              title=\"Convert this dataframe to an interactive table.\"\n",
              "              style=\"display:none;\">\n",
              "        \n",
              "  <svg xmlns=\"http://www.w3.org/2000/svg\" height=\"24px\"viewBox=\"0 0 24 24\"\n",
              "       width=\"24px\">\n",
              "    <path d=\"M0 0h24v24H0V0z\" fill=\"none\"/>\n",
              "    <path d=\"M18.56 5.44l.94 2.06.94-2.06 2.06-.94-2.06-.94-.94-2.06-.94 2.06-2.06.94zm-11 1L8.5 8.5l.94-2.06 2.06-.94-2.06-.94L8.5 2.5l-.94 2.06-2.06.94zm10 10l.94 2.06.94-2.06 2.06-.94-2.06-.94-.94-2.06-.94 2.06-2.06.94z\"/><path d=\"M17.41 7.96l-1.37-1.37c-.4-.4-.92-.59-1.43-.59-.52 0-1.04.2-1.43.59L10.3 9.45l-7.72 7.72c-.78.78-.78 2.05 0 2.83L4 21.41c.39.39.9.59 1.41.59.51 0 1.02-.2 1.41-.59l7.78-7.78 2.81-2.81c.8-.78.8-2.07 0-2.86zM5.41 20L4 18.59l7.72-7.72 1.47 1.35L5.41 20z\"/>\n",
              "  </svg>\n",
              "      </button>\n",
              "      \n",
              "  <style>\n",
              "    .colab-df-container {\n",
              "      display:flex;\n",
              "      flex-wrap:wrap;\n",
              "      gap: 12px;\n",
              "    }\n",
              "\n",
              "    .colab-df-convert {\n",
              "      background-color: #E8F0FE;\n",
              "      border: none;\n",
              "      border-radius: 50%;\n",
              "      cursor: pointer;\n",
              "      display: none;\n",
              "      fill: #1967D2;\n",
              "      height: 32px;\n",
              "      padding: 0 0 0 0;\n",
              "      width: 32px;\n",
              "    }\n",
              "\n",
              "    .colab-df-convert:hover {\n",
              "      background-color: #E2EBFA;\n",
              "      box-shadow: 0px 1px 2px rgba(60, 64, 67, 0.3), 0px 1px 3px 1px rgba(60, 64, 67, 0.15);\n",
              "      fill: #174EA6;\n",
              "    }\n",
              "\n",
              "    [theme=dark] .colab-df-convert {\n",
              "      background-color: #3B4455;\n",
              "      fill: #D2E3FC;\n",
              "    }\n",
              "\n",
              "    [theme=dark] .colab-df-convert:hover {\n",
              "      background-color: #434B5C;\n",
              "      box-shadow: 0px 1px 3px 1px rgba(0, 0, 0, 0.15);\n",
              "      filter: drop-shadow(0px 1px 2px rgba(0, 0, 0, 0.3));\n",
              "      fill: #FFFFFF;\n",
              "    }\n",
              "  </style>\n",
              "\n",
              "      <script>\n",
              "        const buttonEl =\n",
              "          document.querySelector('#df-4bb44c0f-4905-4712-8d70-0c77d4ee3c5d button.colab-df-convert');\n",
              "        buttonEl.style.display =\n",
              "          google.colab.kernel.accessAllowed ? 'block' : 'none';\n",
              "\n",
              "        async function convertToInteractive(key) {\n",
              "          const element = document.querySelector('#df-4bb44c0f-4905-4712-8d70-0c77d4ee3c5d');\n",
              "          const dataTable =\n",
              "            await google.colab.kernel.invokeFunction('convertToInteractive',\n",
              "                                                     [key], {});\n",
              "          if (!dataTable) return;\n",
              "\n",
              "          const docLinkHtml = 'Like what you see? Visit the ' +\n",
              "            '<a target=\"_blank\" href=https://colab.research.google.com/notebooks/data_table.ipynb>data table notebook</a>'\n",
              "            + ' to learn more about interactive tables.';\n",
              "          element.innerHTML = '';\n",
              "          dataTable['output_type'] = 'display_data';\n",
              "          await google.colab.output.renderOutput(dataTable, element);\n",
              "          const docLink = document.createElement('div');\n",
              "          docLink.innerHTML = docLinkHtml;\n",
              "          element.appendChild(docLink);\n",
              "        }\n",
              "      </script>\n",
              "    </div>\n",
              "  </div>\n",
              "  "
            ]
          },
          "metadata": {},
          "execution_count": 2
        }
      ]
    },
    {
      "cell_type": "markdown",
      "source": [
        "# Transform Bagian I - Kode Pos\n",
        "Ada permintaan datang dari tim logistik bahwa mereka membutuhkan kode pos dari peserta agar pengiriman piala lebih mudah dan cepat sampai. Maka dari itu buatlah kolom baru bernama postal_code yang memuat informasi mengenai kode pos yang diambil dari alamat peserta (kolom address).\n",
        "\n",
        "Diketahui bahwa kode pos berada di paling akhir dari alamat tersebut.\n",
        "\n",
        "Note:\n",
        "Jika regex yang dimasukkan tidak bisa menangkap pattern dari value kolom address maka akan menghasilkan NaN."
      ],
      "metadata": {
        "id": "CmqhA3n7ctbo"
      }
    },
    {
      "cell_type": "code",
      "source": [
        "df_participant['postal_code'] = df_participant['address'].str.extract(r'(\\d+)$') #Masukkan regex Anda didalam fungsi extract\n",
        "df_participant['postal_code']"
      ],
      "metadata": {
        "colab": {
          "base_uri": "https://localhost:8080/"
        },
        "id": "IudqFIivcqRZ",
        "outputId": "2e8ee387-b6da-4615-82c0-534e73b7b171"
      },
      "execution_count": 3,
      "outputs": [
        {
          "output_type": "execute_result",
          "data": {
            "text/plain": [
              "0       80734\n",
              "1       09434\n",
              "2       57739\n",
              "3       76156\n",
              "4       70074\n",
              "        ...  \n",
              "4995    50268\n",
              "4996    57434\n",
              "4997    95312\n",
              "4998    80657\n",
              "4999    41134\n",
              "Name: postal_code, Length: 5000, dtype: object"
            ]
          },
          "metadata": {},
          "execution_count": 3
        }
      ]
    },
    {
      "cell_type": "markdown",
      "source": [
        "# Transform Bagian II - Kota\n",
        "Selain kode pos, mereka juga membutuhkan kota dari peserta.\n",
        "\n",
        "Untuk menyediakan informasi tersebut, buatlah kolom baru bernama city yang didapat dari kolom address. Diasumsikan bahwa kota merupakan sekumpulan karakter yang terdapat setelah nomor jalan diikuti dengan \\n (newline character) atau dalam bahasa lainnya yaitu enter."
      ],
      "metadata": {
        "id": "3_-B-9lU-cM0"
      }
    },
    {
      "cell_type": "code",
      "source": [
        "#Masukkan regex Anda didalam fungsi extract\n",
        "df_participant['city'] = df_participant['address'].str.extract(r'(?<=\\n)(\\w.+)(?=,)') \n",
        "df_participant['city']"
      ],
      "metadata": {
        "id": "I8yz8jBKdG9p",
        "colab": {
          "base_uri": "https://localhost:8080/"
        },
        "outputId": "c6277aee-33cd-41ff-e940-73ed43c1a83b"
      },
      "execution_count": 4,
      "outputs": [
        {
          "output_type": "execute_result",
          "data": {
            "text/plain": [
              "0              Medan\n",
              "1         Prabumulih\n",
              "2              Ambon\n",
              "3       Lubuklinggau\n",
              "4             Kediri\n",
              "            ...     \n",
              "4995         Cirebon\n",
              "4996           Bogor\n",
              "4997    Tanjungbalai\n",
              "4998          Manado\n",
              "4999         Bontang\n",
              "Name: city, Length: 5000, dtype: object"
            ]
          },
          "metadata": {},
          "execution_count": 4
        }
      ]
    },
    {
      "cell_type": "markdown",
      "source": [
        "# Transform Bagian III - Github\n",
        "Salah satu parameter untuk mengetahui proyek apa saja yang pernah dikerjakan oleh peserta yaitu dari git repository mereka.\n",
        "\n",
        "Pada kasus ini kita menggunakan profil github sebagai parameternya. Tugas Anda yaitu membuat kolom baru bernama github_profile yang merupakan link profil github dari peserta.\n",
        "\n",
        "Diketahui bahwa profil github mereka merupakan gabungan dari first_name dan last_name yang sudah di-lowercase. "
      ],
      "metadata": {
        "id": "B34iz--2CJj0"
      }
    },
    {
      "cell_type": "code",
      "source": [
        "df_participant['github_profile'] = 'https://github.com/' + df_participant['first_name'].str.lower() + df_participant['last_name'].str.lower()\n",
        "df_participant['github_profile']"
      ],
      "metadata": {
        "colab": {
          "base_uri": "https://localhost:8080/"
        },
        "id": "JMCQogTqCOHF",
        "outputId": "4328653d-20eb-49df-8c95-4fa9958c327f"
      },
      "execution_count": 5,
      "outputs": [
        {
          "output_type": "execute_result",
          "data": {
            "text/plain": [
              "0         https://github.com/citranurdiyanti\n",
              "1            https://github.com/arissetiawan\n",
              "2       https://github.com/corneliahandayani\n",
              "3             https://github.com/solehrajasa\n",
              "4              https://github.com/viviastuti\n",
              "                        ...                 \n",
              "4995        https://github.com/mitralatupono\n",
              "4996       https://github.com/indahrahmawati\n",
              "4997        https://github.com/irsadnajmudin\n",
              "4998        https://github.com/carlanasyidah\n",
              "4999       https://github.com/darmanamaryadi\n",
              "Name: github_profile, Length: 5000, dtype: object"
            ]
          },
          "metadata": {},
          "execution_count": 5
        }
      ]
    },
    {
      "cell_type": "markdown",
      "source": [
        "# Transform Bagian IV - Nomor Handphone\n",
        "Jika kita lihat kembali, ternyata nomor handphone yang ada pada data csv kita memiliki format yang berbeda-beda. Maka dari itu, kita perlu untuk melakukan cleansing pada data nomor handphone agar memiliki format yang sama. Anda sebagai Data Engineer diberi privilege untuk menentukan format nomor handphone yang benar. Pada kasus ini mari kita samakan formatnya dengan aturan:\n",
        "1. Jika awalan nomor HP berupa angka 62 atau +62 yang merupakan kode telepon Indonesia, maka diterjemahkan ke 0. \n",
        "2. Tidak ada tanda baca seperti kurung buka, kurung tutup, strip⟶ ()-\n",
        "3. Tidak ada spasi pada nomor HP nama kolom untuk menyimpan hasil cleansing pada nomor HP yaitu cleaned_phone_number\n",
        "\n",
        "\n",
        "\n"
      ],
      "metadata": {
        "id": "4TSuk6oGDUc-"
      }
    },
    {
      "cell_type": "code",
      "source": [
        "#Masukkan regex anda pada parameter pertama dari fungsi replace\n",
        "df_participant['cleaned_phone_number'] = df_participant['phone_number'].str.replace(r'^(\\+62|62)', '0')\n",
        "df_participant['cleaned_phone_number']"
      ],
      "metadata": {
        "colab": {
          "base_uri": "https://localhost:8080/"
        },
        "id": "RWpkMI9yDTbE",
        "outputId": "98428f5a-510d-42f3-eb50-0c8ae9c41335"
      },
      "execution_count": 6,
      "outputs": [
        {
          "output_type": "stream",
          "name": "stderr",
          "text": [
            "/usr/local/lib/python3.7/dist-packages/ipykernel_launcher.py:2: FutureWarning: The default value of regex will change from True to False in a future version.\n",
            "  \n"
          ]
        },
        {
          "output_type": "execute_result",
          "data": {
            "text/plain": [
              "0         (0151) 081 2706\n",
              "1        0 (036) 461 7027\n",
              "2            089 833 6695\n",
              "3        0 (418) 329-4756\n",
              "4              0812511835\n",
              "              ...        \n",
              "4995     0 (050) 795-8398\n",
              "4996    0 (0443) 963 0055\n",
              "4997    0 (0408) 216-7689\n",
              "4998    0 (0751) 380 3352\n",
              "4999     0 (066) 414 8791\n",
              "Name: cleaned_phone_number, Length: 5000, dtype: object"
            ]
          },
          "metadata": {},
          "execution_count": 6
        }
      ]
    },
    {
      "cell_type": "code",
      "source": [
        "df_participant['cleaned_phone_number'] = df_participant['cleaned_phone_number'].str.replace(r'[()-]', '')\n",
        "df_participant['cleaned_phone_number']"
      ],
      "metadata": {
        "colab": {
          "base_uri": "https://localhost:8080/"
        },
        "id": "Yf3WLHzPEgL2",
        "outputId": "a9ba0e2a-6315-4ee4-cb2f-f302907b24ab"
      },
      "execution_count": 7,
      "outputs": [
        {
          "output_type": "stream",
          "name": "stderr",
          "text": [
            "/usr/local/lib/python3.7/dist-packages/ipykernel_launcher.py:1: FutureWarning: The default value of regex will change from True to False in a future version.\n",
            "  \"\"\"Entry point for launching an IPython kernel.\n"
          ]
        },
        {
          "output_type": "execute_result",
          "data": {
            "text/plain": [
              "0         0151 081 2706\n",
              "1        0 036 461 7027\n",
              "2          089 833 6695\n",
              "3         0 418 3294756\n",
              "4            0812511835\n",
              "             ...       \n",
              "4995      0 050 7958398\n",
              "4996    0 0443 963 0055\n",
              "4997     0 0408 2167689\n",
              "4998    0 0751 380 3352\n",
              "4999     0 066 414 8791\n",
              "Name: cleaned_phone_number, Length: 5000, dtype: object"
            ]
          },
          "metadata": {},
          "execution_count": 7
        }
      ]
    },
    {
      "cell_type": "code",
      "source": [
        "df_participant['cleaned_phone_number'] = df_participant['cleaned_phone_number'].str.replace(r'\\s+', '')\n",
        "df_participant['cleaned_phone_number']"
      ],
      "metadata": {
        "colab": {
          "base_uri": "https://localhost:8080/"
        },
        "id": "pRlcQyFyGBcP",
        "outputId": "378bc9b2-841b-467e-c66d-0c76d712ff1e"
      },
      "execution_count": 8,
      "outputs": [
        {
          "output_type": "stream",
          "name": "stderr",
          "text": [
            "/usr/local/lib/python3.7/dist-packages/ipykernel_launcher.py:1: FutureWarning: The default value of regex will change from True to False in a future version.\n",
            "  \"\"\"Entry point for launching an IPython kernel.\n"
          ]
        },
        {
          "output_type": "execute_result",
          "data": {
            "text/plain": [
              "0        01510812706\n",
              "1        00364617027\n",
              "2         0898336695\n",
              "3        04183294756\n",
              "4         0812511835\n",
              "            ...     \n",
              "4995     00507958398\n",
              "4996    004439630055\n",
              "4997    004082167689\n",
              "4998    007513803352\n",
              "4999     00664148791\n",
              "Name: cleaned_phone_number, Length: 5000, dtype: object"
            ]
          },
          "metadata": {},
          "execution_count": 8
        }
      ]
    },
    {
      "cell_type": "markdown",
      "source": [
        "# Transform Bagian V - Nama Tim\n",
        "Dataset saat ini belum memuat nama tim, dan rupanya dari tim Data Analyst membutuhkan informasi terkait nama tim dari masing-masing peserta.\n",
        "\n",
        "Diketahui bahwa nama tim merupakan gabungan nilai dari kolom first_name, last_name, country dan institute.\n",
        "\n",
        "Tugas Anda yakni buatlah kolom baru dengan nama team_name yang memuat informasi nama tim dari peserta."
      ],
      "metadata": {
        "id": "4ahFt83sJIKt"
      }
    },
    {
      "cell_type": "code",
      "source": [
        "def func(col):\n",
        "    abbrev_name = \"%s%s\"%(col['first_name'][0],col['last_name'][0]) #Singkatan dari Nama Depan dan Nama Belakang dengan mengambil huruf pertama\n",
        "    country = col['country']\n",
        "    abbrev_institute = '%s'%(''.join(list(map(lambda word: word[0], col['institute'].split())))) #Singkatan dari value di kolom institute\n",
        "    return \"%s-%s-%s\"%(abbrev_name,country,abbrev_institute)\n",
        "\n",
        "df_participant['team_name'] = df_participant.apply(func, axis=1)\n",
        "df_participant['team_name']"
      ],
      "metadata": {
        "colab": {
          "base_uri": "https://localhost:8080/"
        },
        "id": "9cYW4UULHjUN",
        "outputId": "f12642c7-3fd2-495e-bfe6-533f9af3dc3c"
      },
      "execution_count": 9,
      "outputs": [
        {
          "output_type": "execute_result",
          "data": {
            "text/plain": [
              "0          CN-Georgia-UPM\n",
              "1       AS-Korea Utara-UD\n",
              "2           CH-Komoro-UHP\n",
              "3          SR-Eritrea-PTY\n",
              "4         VA-Aljazair-PHR\n",
              "              ...        \n",
              "4995     ML-Hongaria-ITSN\n",
              "4996     IR-Norwegia-CSHT\n",
              "4997        IN-Ghana-UKWM\n",
              "4998       CN-Gambia-CP(T\n",
              "4999     DM-Singapura-PLK\n",
              "Name: team_name, Length: 5000, dtype: object"
            ]
          },
          "metadata": {},
          "execution_count": 9
        }
      ]
    },
    {
      "cell_type": "markdown",
      "source": [
        "# Transform Bagian VI - Email\n",
        "Setelah dilihat kembali dari data peserta yang dimiliki, ternyata ada satu informasi yang penting namun belum tersedia, yaitu email.\n",
        "\n",
        "Anda sebagai Data Engineer diminta untuk menyediakan informasi email dari peserta dengan aturan bahwa format email sebagai berikut:\n",
        "\n",
        "> Format email:<br>\n",
        "xxyy@aa.bb.[ac/com].[cc]\n",
        "\n",
        "> Keterangan:<br>\n",
        "xx -> nama depan (first_name) dalam lowercase<br>\n",
        "yy -> nama belakang (last_name) dalam lowercase<br>\n",
        "aa -> nama institusi<br>\n",
        "\n",
        ">  Nama depan: Citra<br>\n",
        "  Nama belakang: Nurdiyanti<br>\n",
        "  Institusi: UD Prakasa Mandasari<br>\n",
        "  Negara: Georgia<br>\n",
        "  Maka,Email nya: citranurdiyanti@upm.geo\n",
        "  \n",
        ">  Nama depan: Aris<br>\n",
        "  Nama belakang: Setiawan<br>\n",
        "  Institusi: Universitas Diponegoro<br>\n",
        "  Negara: Korea Utara<br>\n",
        "  Maka, Email nya: arissetiawan@ud.ac.ku"
      ],
      "metadata": {
        "id": "l4z6JxvZLpSR"
      }
    },
    {
      "cell_type": "code",
      "source": [
        "def func(col):\n",
        "    first_name_lower = col['first_name'].lower()\n",
        "    last_name_lower = col['last_name'].lower()\n",
        "    institute = ''.join(list(map(lambda word: word[0], col['institute'].lower().split()))) #Singkatan dari nama perusahaan dalam lowercase\n",
        "\n",
        "    if 'Universitas' in col['institute']:\n",
        "        if len(col['country'].split()) > 1: #Kondisi untuk mengecek apakah jumlah kata dari country lebih dari 1\n",
        "            country = ''.join(list(map(lambda word: word[0], col['country'].lower().split())))\n",
        "        else:\n",
        "            country = col['country'][:3].lower()\n",
        "        return \"%s%s@%s.ac.%s\"%(first_name_lower,last_name_lower,institute,country)\n",
        "\n",
        "    return \"%s%s@%s.com\"%(first_name_lower,last_name_lower,institute)\n",
        "\n",
        "df_participant['email'] = df_participant.apply(func, axis=1)\n",
        "df_participant['email']"
      ],
      "metadata": {
        "colab": {
          "base_uri": "https://localhost:8080/"
        },
        "id": "kXN05JL7KHK1",
        "outputId": "0d5b8b9b-5c58-4a49-a237-44d429be8dbb"
      },
      "execution_count": 10,
      "outputs": [
        {
          "output_type": "execute_result",
          "data": {
            "text/plain": [
              "0         citranurdiyanti@upm.com\n",
              "1           arissetiawan@ud.ac.ku\n",
              "2       corneliahandayani@uhp.com\n",
              "3             solehrajasa@pty.com\n",
              "4              viviastuti@phr.com\n",
              "                  ...            \n",
              "4995       mitralatupono@itsn.com\n",
              "4996      indahrahmawati@csht.com\n",
              "4997    irsadnajmudin@ukwm.ac.gha\n",
              "4998       carlanasyidah@cp(t.com\n",
              "4999       darmanamaryadi@plk.com\n",
              "Name: email, Length: 5000, dtype: object"
            ]
          },
          "metadata": {},
          "execution_count": 10
        }
      ]
    },
    {
      "cell_type": "markdown",
      "source": [
        "# Transform Bagian VII - Tanggal Lahir\n",
        "MySQL merupakan salah satu database yang sangat populer dan digunakan untuk menyimpan data berupa tabel, termasuk data hasil pengolahan yang sudah kita lakukan ini nantinya bisa dimasukkan ke MySQL.\n",
        "\n",
        "Meskipun begitu, ada suatu aturan dari MySQL terkait format tanggal yang bisa mereka terima yaitu YYYY-MM-DD dengan keterangan:\n",
        "* YYYY: 4 digit yang menandakan tahun\n",
        "* MM: 2 digit yang menandakan bulan\n",
        "* DD: 2 digit yang menandakan tanggal\n",
        "Contohnya yaitu: 2021-04-07\n",
        "\n",
        "Jika kita lihat kembali pada kolom tanggal lahir terlihat bahwa nilainya belum sesuai dengan format DATE dari MySQL.\n",
        "\n",
        "Oleh karena itu, lakukanlah formatting terhadap kolom birth_date menjadi YYYY-MM-DD dan simpan di kolom yang sama."
      ],
      "metadata": {
        "id": "YxJUY5LzZdq_"
      }
    },
    {
      "cell_type": "code",
      "source": [
        "df_participant['birth_date'] = pd.to_datetime(df_participant['birth_date'], format='%d %b %Y')\n",
        "df_participant['birth_date']"
      ],
      "metadata": {
        "colab": {
          "base_uri": "https://localhost:8080/"
        },
        "id": "ntTUK0N6N3bG",
        "outputId": "4da4f8f4-2cd7-4413-95af-ff5ee650cb30"
      },
      "execution_count": 11,
      "outputs": [
        {
          "output_type": "execute_result",
          "data": {
            "text/plain": [
              "0      1991-02-05\n",
              "1      1993-01-11\n",
              "2      1993-07-31\n",
              "3      1991-11-04\n",
              "4      2003-01-22\n",
              "          ...    \n",
              "4995   2000-04-27\n",
              "4996   1996-03-06\n",
              "4997   2003-02-14\n",
              "4998   1994-08-22\n",
              "4999   2002-02-09\n",
              "Name: birth_date, Length: 5000, dtype: datetime64[ns]"
            ]
          },
          "metadata": {},
          "execution_count": 11
        }
      ]
    },
    {
      "cell_type": "markdown",
      "source": [
        "# Transform Bagian VII - Tanggal Daftar Kompetisi\n",
        "Selain punya aturan mengenai format DATE, MySQL juga memberi aturan pada data yang bertipe DATETIME yaitu YYYY-MM-DD HH:mm:ss dengan keterangan:\n",
        "\n",
        "* YYYY: 4 digit yang menandakan tahun\n",
        "* MM: 2 digit yang menandakan bulan\n",
        "* DD: 2 digit yang menandakan tanggal\n",
        "* HH: 2 digit yang menandakan jam\n",
        "* mm: 2 digit yang menandakan menit\n",
        "* ss: 2 digit yang menandakan detik\n",
        "\n",
        "Contohnya yaitu: 2021-04-07 15:10:55\n",
        "\n",
        "Karena data kita mengenai waktu registrasi peserta (register_time) belum sesuai format yang seharusnya.\n",
        "\n",
        "Maka dari itu, tugas Anda yaitu untuk merubah register_time ke format DATETIME sesuai dengan aturan dari MySQL.\n",
        "\n",
        "Simpanlah hasil tersebut ke kolom register_at."
      ],
      "metadata": {
        "id": "XM2Pwiytdkt9"
      }
    },
    {
      "cell_type": "code",
      "source": [
        "df_participant['register_at'] = pd.to_datetime(df_participant['register_time'], unit='s')\n",
        "df_participant['register_at']"
      ],
      "metadata": {
        "colab": {
          "base_uri": "https://localhost:8080/"
        },
        "id": "6GSxzGDbcEBe",
        "outputId": "f9557287-4556-4ce1-ebdc-a526e8651ec5"
      },
      "execution_count": 12,
      "outputs": [
        {
          "output_type": "execute_result",
          "data": {
            "text/plain": [
              "0      2021-04-05 14:47:26\n",
              "1      2021-04-05 14:46:58\n",
              "2      2021-04-05 14:47:15\n",
              "3      2021-04-05 14:47:14\n",
              "4      2021-04-05 14:46:50\n",
              "               ...        \n",
              "4995   2021-04-05 14:46:16\n",
              "4996   2021-04-05 14:46:48\n",
              "4997   2021-04-05 14:46:06\n",
              "4998   2021-04-05 14:46:45\n",
              "4999   2021-04-05 14:46:51\n",
              "Name: register_at, Length: 5000, dtype: datetime64[ns]"
            ]
          },
          "metadata": {},
          "execution_count": 12
        }
      ]
    }
  ]
}